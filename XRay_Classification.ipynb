{
 "cells": [
  {
   "cell_type": "markdown",
   "id": "687850dd",
   "metadata": {},
   "source": [
    "# Dataset 3 - Lung X-Ray Image Classification\n",
    "\n",
    " https://www.kaggle.com/datasets/prashant268/chest-xray-covid19-pneumonia\n"
   ]
  },
  {
   "cell_type": "code",
   "execution_count": 69,
   "id": "44eb6de6",
   "metadata": {},
   "outputs": [],
   "source": [
    "import pandas as pd\n",
    "import os\n",
    "from skimage.transform import resize\n",
    "from skimage.io import imread\n",
    "from sklearn.decomposition import PCA\n",
    "import numpy as np\n",
    "import matplotlib.pyplot as plt\n",
    "from sklearn import svm\n",
    "from sklearn.model_selection import GridSearchCV\n",
    "import time\n",
    "from sklearn.metrics import accuracy_score\n",
    "from sklearn.metrics import precision_score\n",
    "from sklearn.metrics import recall_score\n",
    "from sklearn.metrics import f1_score\n",
    "from sklearn.metrics import balanced_accuracy_score\n",
    "from sklearn.datasets import make_classification\n",
    "from sklearn.metrics import confusion_matrix, ConfusionMatrixDisplay\n",
    "from IPython.display import display, Latex\n",
    "\n",
    "from sklearn.multiclass import OneVsRestClassifier\n",
    "from sklearn.neighbors import KNeighborsClassifier\n"
   ]
  },
  {
   "cell_type": "markdown",
   "id": "1286efd6",
   "metadata": {},
   "source": [
    "## Exploring the Dataset"
   ]
  },
  {
   "cell_type": "code",
   "execution_count": 52,
   "id": "2e08860f",
   "metadata": {},
   "outputs": [
    {
     "name": "stdout",
     "output_type": "stream",
     "text": [
      "The training dataset has 460 COVID19 lung images, 1266 normal lung images, and 3418 pneumonia lung images.\n",
      "The test dataset has 116 COVID19 lung images, 317 normal lung images, and 855 pneumonia lung images.\n"
     ]
    }
   ],
   "source": [
    "training_imgs_COV = len(os.listdir('C:/Users/Home/Data/train/COVID19'))\n",
    "training_imgs_NORM = len(os.listdir('C:/Users/Home/Data/train/NORMAL'))\n",
    "training_imgs_PNEU = len(os.listdir('C:/Users/Home/Data/train/PNEUMONIA'))\n",
    "test_imgs_COV = len(os.listdir('C:/Users/Home/Data/test/COVID19'))\n",
    "test_imgs_NORM = len(os.listdir('C:/Users/Home/Data/test/NORMAL'))\n",
    "test_imgs_PNEU = len(os.listdir('C:/Users/Home/Data/test/PNEUMONIA'))\n",
    "print(f\"The training dataset has {training_imgs_COV} COVID19 lung images, {training_imgs_NORM} normal lung images, and {training_imgs_PNEU} pneumonia lung images.\")\n",
    "print(f\"The test dataset has {test_imgs_COV} COVID19 lung images, {test_imgs_NORM} normal lung images, and {test_imgs_PNEU} pneumonia lung images.\")"
   ]
  },
  {
   "cell_type": "markdown",
   "id": "02159b7f",
   "metadata": {},
   "source": [
    "As shown above, the training dataset has 460 COVID19 lung images, 1266 normal lung images, and 3418 pneumonia lung images while the test dataset has 116 COVID19 lung images, 317 normal lung images, and 855 pneumonia lung images. This is 5144 training images and 1288 test images. This shows it is a fairly unbalanced dataset, with the majority of training and test images being pneumonia lung images.\n",
    "\n",
    "The images are fairly high definition greyscale images, with many having resolution above 2000x2000px. "
   ]
  },
  {
   "cell_type": "markdown",
   "id": "afe414ce",
   "metadata": {},
   "source": [
    "## Preprocessing"
   ]
  },
  {
   "cell_type": "code",
   "execution_count": 2,
   "id": "2fc065d7",
   "metadata": {
    "scrolled": true
   },
   "outputs": [
    {
     "name": "stdout",
     "output_type": "stream",
     "text": [
      "loaded category:COVID19\n",
      "loaded category:NORMAL\n",
      "loaded category:PNEUMONIA\n"
     ]
    }
   ],
   "source": [
    "Categories=['COVID19','NORMAL','PNEUMONIA'] \n",
    "flat_data=[] #input array\n",
    "target=[] #output array\n",
    "datadir='C:/Users/Home/Data/train' #path to training folder\n",
    "#path which contains all the categories of images\n",
    "for i in Categories:\n",
    "    \n",
    "    path=os.path.join(datadir,i) #appends i to datadir ex. ...Data/train/COVID19\n",
    "    for img in os.listdir(path): \n",
    "        img_array=imread(os.path.join(path,img)) \n",
    "        img_resized=resize(img_array,(64,64,1)) #resizes arrays to 64x64 size\n",
    "        flat_data.append(img_resized.flatten()) #takes resized array and flattens it\n",
    "        target.append(Categories.index(i))\n",
    "    print(f'loaded category:{i}') #to tell this is working and category finished\n",
    "    \n",
    "flat_data=np.array(flat_data) #turns flat_data into a numpy array\n",
    "target=np.array(target) #creates target numpy array\n",
    "df=pd.DataFrame(flat_data) #turns flat_data into a pandas dataframe\n",
    "df['Target']=target #creates target output column on the dataframe\n",
    "x_train=df.iloc[:,:-1] #input data in dataframe\n",
    "y_train=df.iloc[:,-1] #output data in dataframe"
   ]
  },
  {
   "cell_type": "markdown",
   "id": "d9bfc0a7",
   "metadata": {},
   "source": [
    "Above is the preprocessing for the training data. Theres two main preprocessing steps here. The first, in the for loop is turning all the images into much more managable 64x64 images. flattening them, and then putting them into the data list while the category of this image is stored in the target list. This then is done for every image in every category.\n",
    "\n",
    "The second step, after the for loops is turning the data data array into numpy arrays, and then turning both of these into a pandas dataframe. Variables are then created to seperate the input data from output data for future use."
   ]
  },
  {
   "cell_type": "code",
   "execution_count": 3,
   "id": "c4675de3",
   "metadata": {},
   "outputs": [
    {
     "name": "stdout",
     "output_type": "stream",
     "text": [
      "loaded category:COVID19\n",
      "loaded category:NORMAL\n",
      "loaded category:PNEUMONIA\n"
     ]
    }
   ],
   "source": [
    "Categories=['COVID19','NORMAL','PNEUMONIA'] \n",
    "flat_data=[] #input array\n",
    "target=[] #output array\n",
    "datadir='C:/Users/Home/Data/test' #path to training folder\n",
    "#path which contains all the categories of images\n",
    "for i in Categories:\n",
    "    \n",
    "    path=os.path.join(datadir,i) #appends i to datadir ex: .../Data/test/COVID19\n",
    "    for img in os.listdir(path): \n",
    "        img_array=imread(os.path.join(path,img)) \n",
    "        img_resized=resize(img_array,(64,64,1)) #resizes arrays to 80x80 size\n",
    "        flat_data.append(img_resized.flatten()) #takes resized array and flattens it\n",
    "        target.append(Categories.index(i))\n",
    "    print(f'loaded category:{i}')\n",
    "    \n",
    "flat_data=np.array(flat_data) #turns flat_data into a numpy array\n",
    "target=np.array(target) #creates target numpy array\n",
    "df=pd.DataFrame(flat_data) #turns flat_data into a pandas dataframe\n",
    "df['Target']=target #creates target output column on the dataframe\n",
    "x_test=df.iloc[:,:-1] #input data in dataframe\n",
    "y_test=df.iloc[:,-1] #output data in dataframe"
   ]
  },
  {
   "cell_type": "markdown",
   "id": "0f5d053e",
   "metadata": {},
   "source": [
    "Above is the preprocessing for the test data. It is the same process as the training data, but I will go over again.\n",
    "\n",
    "Theres two main preprocessing steps here. The first, in the foor loop is turning all the images into much more managable 64x64 images. flattening them, and then putting them into the data list while the category of this image is stored in the target list. This then is done for every image in every category.\n",
    "\n",
    "The second step, after the for loops is turning the data data array into numpy arrays, and then turning both of these into a pandas dataframe. Variables are then created to seperate the input data from output data for future use."
   ]
  },
  {
   "cell_type": "markdown",
   "id": "155e563a",
   "metadata": {},
   "source": [
    "## Processing"
   ]
  },
  {
   "cell_type": "markdown",
   "id": "00756eb2",
   "metadata": {},
   "source": [
    "### Method 1 - SVM"
   ]
  },
  {
   "cell_type": "code",
   "execution_count": 4,
   "id": "8a386636",
   "metadata": {},
   "outputs": [],
   "source": [
    "param_grid={'C':[0.1,1,10,100],'gamma':[0.0001,0.001,0.1,1],'kernel':['rbf']} #creates a parameter grid for C and Gamma\n",
    "svc=svm.SVC(probability=True)  #creates SVC\n",
    "model=GridSearchCV(svc,param_grid) #find best C and gamma values using cross-validation"
   ]
  },
  {
   "cell_type": "markdown",
   "id": "ddd81375",
   "metadata": {},
   "source": [
    "Here is the first and most important part of the SVM method. First, a parameter grid is created using the hyperparameters of C and gamma, but first, what is C and gamma in this context?\n",
    "\n",
    "C is the basically how soft the margin is, i.e. how many errors are allowed. Errors sound bad, but sometimes allowing some errors eliminates overfitting.\n",
    "\n",
    "Gamma is roughly how curvy the boundary is. The closer to zero, the more straight the decision boundary, while a value of 1 makes it curve to capture every sample in its category. This is another case why a high value can cause overfitting issues.\n",
    "\n",
    "The kernal for all this is RBF, a gaussian method used because linear and polynomial methods are usually bad fits for images. The parameter grid could be expanded to compare RBF to polynomial and linear methods, but this would cause very long processing time.\n",
    "\n",
    "After the parameter grid is created, GridSearchCV is used to create the model. GridSearchCV basically creates a model for every value of C and gamma, and using 5-fold cross validation picks the best model."
   ]
  },
  {
   "cell_type": "code",
   "execution_count": 5,
   "id": "ef4627b2",
   "metadata": {},
   "outputs": [
    {
     "data": {
      "text/plain": [
       "{'C': 10, 'gamma': 0.001, 'kernel': 'rbf'}"
      ]
     },
     "execution_count": 5,
     "metadata": {},
     "output_type": "execute_result"
    }
   ],
   "source": [
    "model.fit(x_train, y_train) #fits model using inputs, outputs, and C and gamma values\n",
    "model.best_params_  #outputs best C and gamma values"
   ]
  },
  {
   "cell_type": "markdown",
   "id": "fd96eb27",
   "metadata": {},
   "source": [
    "This is a very simple but important step, using sklearns .fit method, it fits the SVM model to the given inputs and outputs. Here, I also display the C and gamma being used for this model, which is C=10 and gamma=.001. This shows that the model is allowing some errors but has overall fairly straight boundaries."
   ]
  },
  {
   "cell_type": "code",
   "execution_count": 6,
   "id": "cb95fba6",
   "metadata": {},
   "outputs": [
    {
     "name": "stdout",
     "output_type": "stream",
     "text": [
      "The predicted Data is :\n",
      "[0 0 0 ... 1 2 2]\n",
      "The actual data is:\n",
      "[0 0 0 ... 2 2 2]\n"
     ]
    },
    {
     "ename": "NameError",
     "evalue": "name 'accuracy_score' is not defined",
     "output_type": "error",
     "traceback": [
      "\u001b[1;31m---------------------------------------------------------------------------\u001b[0m",
      "\u001b[1;31mNameError\u001b[0m                                 Traceback (most recent call last)",
      "Cell \u001b[1;32mIn [6], line 6\u001b[0m\n\u001b[0;32m      4\u001b[0m \u001b[38;5;28mprint\u001b[39m(\u001b[38;5;124m\"\u001b[39m\u001b[38;5;124mThe actual data is:\u001b[39m\u001b[38;5;124m\"\u001b[39m)\n\u001b[0;32m      5\u001b[0m \u001b[38;5;28mprint\u001b[39m(np\u001b[38;5;241m.\u001b[39marray(y_test))\n\u001b[1;32m----> 6\u001b[0m \u001b[38;5;28mprint\u001b[39m(\u001b[38;5;124mf\u001b[39m\u001b[38;5;124m\"\u001b[39m\u001b[38;5;124mThe model is \u001b[39m\u001b[38;5;132;01m{\u001b[39;00maccuracy_score(y_pred,y_test)\u001b[38;5;241m*\u001b[39m\u001b[38;5;241m100\u001b[39m\u001b[38;5;132;01m}\u001b[39;00m\u001b[38;5;124m% accurate\u001b[39m\u001b[38;5;124m\"\u001b[39m)\n",
      "\u001b[1;31mNameError\u001b[0m: name 'accuracy_score' is not defined"
     ]
    }
   ],
   "source": [
    "y_pred=model.predict(x_test) #create predicted outputs for test data\n",
    "print(\"The predicted Data is :\")\n",
    "print(y_pred)\n",
    "print(\"The actual data is:\")\n",
    "print(np.array(y_test))\n"
   ]
  },
  {
   "cell_type": "markdown",
   "id": "c64781a6",
   "metadata": {},
   "source": [
    "Now sklearn's .predict method is used. This uses the model and only inputs, in this case the test images, to create predicted output categories."
   ]
  },
  {
   "cell_type": "code",
   "execution_count": 43,
   "id": "46928d9b",
   "metadata": {},
   "outputs": [
    {
     "name": "stdout",
     "output_type": "stream",
     "text": [
      "The model has an accuracy score of 0.953416149068323\n",
      "The model has a precision score of 0.9339063390252225\n",
      "The model has a recall score of 0.957342718755164\n",
      "The model has a f1 score of 0.9450912952732134\n"
     ]
    }
   ],
   "source": [
    "print(f\"The model has an accuracy score of {accuracy_score(y_pred,y_test)}\")\n",
    "print(f\"The model has a precision score of {precision_score(y_pred,y_test, average='macro')}\")\n",
    "print(f\"The model has a recall score of {recall_score(y_pred,y_test, average='macro')}\")\n",
    "print(f\"The model has a f1 score of {f1_score(y_pred,y_test, average='macro')}\")"
   ]
  },
  {
   "cell_type": "code",
   "execution_count": 17,
   "id": "9ace556a",
   "metadata": {},
   "outputs": [
    {
     "data": {
      "image/png": "[encoded data removed]",
      "text/plain": [
       "<Figure size 640x480 with 2 Axes>"
      ]
     },
     "metadata": {},
     "output_type": "display_data"
    }
   ],
   "source": [
    "cm = confusion_matrix(y_test, y_pred, labels=model.classes_)\n",
    "disp1 = ConfusionMatrixDisplay(confusion_matrix=cm, display_labels=model.classes_)\n",
    "disp1.plot()\n",
    "plt.show() # 0 = COVID19 | 1 = NORMAL | 2 = PNEUMONIA"
   ]
  },
  {
   "cell_type": "markdown",
   "id": "fe663cfd",
   "metadata": {},
   "source": [
    "Above are the stats for method one, including accuracy, recall, precision, f1, and a confusion matrix. The stats are found using the macro version average due to the imbalanced data set."
   ]
  },
  {
   "cell_type": "markdown",
   "id": "bb557bbc",
   "metadata": {},
   "source": [
    "### Method 2 - K Nearest Neighbor"
   ]
  },
  {
   "cell_type": "code",
   "execution_count": 62,
   "id": "9cca26a9",
   "metadata": {},
   "outputs": [],
   "source": [
    "knn = KNeighborsClassifier()\n",
    "k_range = list(range(1, 71))\n",
    "param_grid = dict(n_neighbors=k_range)\n",
    "knn_model = GridSearchCV(knn, param_grid, scoring='balanced_accuracy')"
   ]
  },
  {
   "cell_type": "markdown",
   "id": "32f61de4",
   "metadata": {},
   "source": [
    "Above is the first step of the KNN method, first, knn is initialized as a KNN classifier. Then, a param grid is created ranging in values from 1 to 71 (71 being the square root of n). Like in the SVM method, GridSearchCV is then used to find the most accurate value of k using balanced accuracy because of the imbalanced dataset."
   ]
  },
  {
   "cell_type": "code",
   "execution_count": 63,
   "id": "43a46069",
   "metadata": {},
   "outputs": [
    {
     "data": {
      "text/html": [
       "<style>#sk-container-id-3 {color: black;background-color: white;}#sk-container-id-3 pre{padding: 0;}#sk-container-id-3 div.sk-toggleable {background-color: white;}#sk-container-id-3 label.sk-toggleable__label {cursor: pointer;display: block;width: 100%;margin-bottom: 0;padding: 0.3em;box-sizing: border-box;text-align: center;}#sk-container-id-3 label.sk-toggleable__label-arrow:before {content: \"▸\";float: left;margin-right: 0.25em;color: #696969;}#sk-container-id-3 label.sk-toggleable__label-arrow:hover:before {color: black;}#sk-container-id-3 div.sk-estimator:hover label.sk-toggleable__label-arrow:before {color: black;}#sk-container-id-3 div.sk-toggleable__content {max-height: 0;max-width: 0;overflow: hidden;text-align: left;background-color: #f0f8ff;}#sk-container-id-3 div.sk-toggleable__content pre {margin: 0.2em;color: black;border-radius: 0.25em;background-color: #f0f8ff;}#sk-container-id-3 input.sk-toggleable__control:checked~div.sk-toggleable__content {max-height: 200px;max-width: 100%;overflow: auto;}#sk-container-id-3 input.sk-toggleable__control:checked~label.sk-toggleable__label-arrow:before {content: \"▾\";}#sk-container-id-3 div.sk-estimator input.sk-toggleable__control:checked~label.sk-toggleable__label {background-color: #d4ebff;}#sk-container-id-3 div.sk-label input.sk-toggleable__control:checked~label.sk-toggleable__label {background-color: #d4ebff;}#sk-container-id-3 input.sk-hidden--visually {border: 0;clip: rect(1px 1px 1px 1px);clip: rect(1px, 1px, 1px, 1px);height: 1px;margin: -1px;overflow: hidden;padding: 0;position: absolute;width: 1px;}#sk-container-id-3 div.sk-estimator {font-family: monospace;background-color: #f0f8ff;border: 1px dotted black;border-radius: 0.25em;box-sizing: border-box;margin-bottom: 0.5em;}#sk-container-id-3 div.sk-estimator:hover {background-color: #d4ebff;}#sk-container-id-3 div.sk-parallel-item::after {content: \"\";width: 100%;border-bottom: 1px solid gray;flex-grow: 1;}#sk-container-id-3 div.sk-label:hover label.sk-toggleable__label {background-color: #d4ebff;}#sk-container-id-3 div.sk-serial::before {content: \"\";position: absolute;border-left: 1px solid gray;box-sizing: border-box;top: 0;bottom: 0;left: 50%;z-index: 0;}#sk-container-id-3 div.sk-serial {display: flex;flex-direction: column;align-items: center;background-color: white;padding-right: 0.2em;padding-left: 0.2em;position: relative;}#sk-container-id-3 div.sk-item {position: relative;z-index: 1;}#sk-container-id-3 div.sk-parallel {display: flex;align-items: stretch;justify-content: center;background-color: white;position: relative;}#sk-container-id-3 div.sk-item::before, #sk-container-id-3 div.sk-parallel-item::before {content: \"\";position: absolute;border-left: 1px solid gray;box-sizing: border-box;top: 0;bottom: 0;left: 50%;z-index: -1;}#sk-container-id-3 div.sk-parallel-item {display: flex;flex-direction: column;z-index: 1;position: relative;background-color: white;}#sk-container-id-3 div.sk-parallel-item:first-child::after {align-self: flex-end;width: 50%;}#sk-container-id-3 div.sk-parallel-item:last-child::after {align-self: flex-start;width: 50%;}#sk-container-id-3 div.sk-parallel-item:only-child::after {width: 0;}#sk-container-id-3 div.sk-dashed-wrapped {border: 1px dashed gray;margin: 0 0.4em 0.5em 0.4em;box-sizing: border-box;padding-bottom: 0.4em;background-color: white;}#sk-container-id-3 div.sk-label label {font-family: monospace;font-weight: bold;display: inline-block;line-height: 1.2em;}#sk-container-id-3 div.sk-label-container {text-align: center;}#sk-container-id-3 div.sk-container {/* jupyter's `normalize.less` sets `[hidden] { display: none; }` but bootstrap.min.css set `[hidden] { display: none !important; }` so we also need the `!important` here to be able to override the default hidden behavior on the sphinx rendered scikit-learn.org. See: https://github.com/scikit-learn/scikit-learn/issues/21755 */display: inline-block !important;position: relative;}#sk-container-id-3 div.sk-text-repr-fallback {display: none;}</style><div id=\"sk-container-id-3\" class=\"sk-top-container\"><div class=\"sk-text-repr-fallback\"><pre>GridSearchCV(estimator=KNeighborsClassifier(),\n",
       "             param_grid={&#x27;n_neighbors&#x27;: [1, 2, 3, 4, 5, 6, 7, 8, 9, 10, 11, 12,\n",
       "                                         13, 14, 15, 16, 17, 18, 19, 20, 21, 22,\n",
       "                                         23, 24, 25, 26, 27, 28, 29, 30, ...]},\n",
       "             scoring=&#x27;balanced_accuracy&#x27;)</pre><b>In a Jupyter environment, please rerun this cell to show the HTML representation or trust the notebook. <br />On GitHub, the HTML representation is unable to render, please try loading this page with nbviewer.org.</b></div><div class=\"sk-container\" hidden><div class=\"sk-item sk-dashed-wrapped\"><div class=\"sk-label-container\"><div class=\"sk-label sk-toggleable\"><input class=\"sk-toggleable__control sk-hidden--visually\" id=\"sk-estimator-id-7\" type=\"checkbox\" ><label for=\"sk-estimator-id-7\" class=\"sk-toggleable__label sk-toggleable__label-arrow\">GridSearchCV</label><div class=\"sk-toggleable__content\"><pre>GridSearchCV(estimator=KNeighborsClassifier(),\n",
       "             param_grid={&#x27;n_neighbors&#x27;: [1, 2, 3, 4, 5, 6, 7, 8, 9, 10, 11, 12,\n",
       "                                         13, 14, 15, 16, 17, 18, 19, 20, 21, 22,\n",
       "                                         23, 24, 25, 26, 27, 28, 29, 30, ...]},\n",
       "             scoring=&#x27;balanced_accuracy&#x27;)</pre></div></div></div><div class=\"sk-parallel\"><div class=\"sk-parallel-item\"><div class=\"sk-item\"><div class=\"sk-label-container\"><div class=\"sk-label sk-toggleable\"><input class=\"sk-toggleable__control sk-hidden--visually\" id=\"sk-estimator-id-8\" type=\"checkbox\" ><label for=\"sk-estimator-id-8\" class=\"sk-toggleable__label sk-toggleable__label-arrow\">estimator: KNeighborsClassifier</label><div class=\"sk-toggleable__content\"><pre>KNeighborsClassifier()</pre></div></div></div><div class=\"sk-serial\"><div class=\"sk-item\"><div class=\"sk-estimator sk-toggleable\"><input class=\"sk-toggleable__control sk-hidden--visually\" id=\"sk-estimator-id-9\" type=\"checkbox\" ><label for=\"sk-estimator-id-9\" class=\"sk-toggleable__label sk-toggleable__label-arrow\">KNeighborsClassifier</label><div class=\"sk-toggleable__content\"><pre>KNeighborsClassifier()</pre></div></div></div></div></div></div></div></div></div></div>"
      ],
      "text/plain": [
       "GridSearchCV(estimator=KNeighborsClassifier(),\n",
       "             param_grid={'n_neighbors': [1, 2, 3, 4, 5, 6, 7, 8, 9, 10, 11, 12,\n",
       "                                         13, 14, 15, 16, 17, 18, 19, 20, 21, 22,\n",
       "                                         23, 24, 25, 26, 27, 28, 29, 30, ...]},\n",
       "             scoring='balanced_accuracy')"
      ]
     },
     "execution_count": 63,
     "metadata": {},
     "output_type": "execute_result"
    }
   ],
   "source": [
    "knn_model.fit(x_train,y_train) #fits data to the knn model using inputs and outputs of training data"
   ]
  },
  {
   "cell_type": "markdown",
   "id": "79cf799c",
   "metadata": {},
   "source": [
    "Now that the model is found, the knn model is then trained using this value of k and the training inputs and outputs."
   ]
  },
  {
   "cell_type": "code",
   "execution_count": 68,
   "id": "ef73ac69",
   "metadata": {},
   "outputs": [
    {
     "name": "stdout",
     "output_type": "stream",
     "text": [
      "{'n_neighbors': 2}\n"
     ]
    }
   ],
   "source": [
    "print(model.best_params_)"
   ]
  },
  {
   "cell_type": "markdown",
   "id": "af4e05a6",
   "metadata": {},
   "source": [
    "This shows that the GridSearchCV found the most accurate value of k to be k=2."
   ]
  },
  {
   "cell_type": "code",
   "execution_count": 71,
   "id": "59755f9f",
   "metadata": {},
   "outputs": [
    {
     "data": {
      "image/png": "[encoded data removed]",
      "text/plain": [
       "<Figure size 640x480 with 2 Axes>"
      ]
     },
     "metadata": {},
     "output_type": "display_data"
    }
   ],
   "source": [
    "y_pred2 = knn_model.predict(x_test)\n",
    "cm2 = confusion_matrix(y_test, y_pred2, labels=model.classes_)\n",
    "disp2 = ConfusionMatrixDisplay(confusion_matrix=cm2, display_labels=model.classes_)\n",
    "disp2.plot()\n",
    "plt.show() # 0 = COVID19 | 1 = NORMAL | 2 = PNEUMONIA"
   ]
  },
  {
   "cell_type": "code",
   "execution_count": 72,
   "id": "1baee4d9",
   "metadata": {},
   "outputs": [
    {
     "name": "stdout",
     "output_type": "stream",
     "text": [
      "The second model has an accuracy score of 0.90527950310559\n",
      "The second model has a precision score of 0.8959929783849013\n",
      "The second model has a recall score of 0.8829677530015774\n",
      "The second model has a f1 score of 0.8877709338610168\n"
     ]
    }
   ],
   "source": [
    "print(f\"The second model has an accuracy score of {accuracy_score(y_pred2,y_test)}\")\n",
    "print(f\"The second model has a precision score of {precision_score(y_pred2,y_test, average='macro')}\")\n",
    "print(f\"The second model has a recall score of {recall_score(y_pred2,y_test, average='macro')}\")\n",
    "print(f\"The second model has a f1 score of {f1_score(y_pred2,y_test, average='macro')}\")"
   ]
  },
  {
   "cell_type": "markdown",
   "id": "f449f277",
   "metadata": {},
   "source": [
    "Above are the stats for method two, including accuracy, recall, precision, f1, and a confusion matrix. The stats are found using the macro version average due to the imbalanced data set."
   ]
  },
  {
   "cell_type": "markdown",
   "id": "e2902f8c",
   "metadata": {},
   "source": [
    "## Comparative Analysis"
   ]
  },
  {
   "cell_type": "markdown",
   "id": "0093ef96",
   "metadata": {},
   "source": [
    "### Complexity\n",
    "\n",
    "When comparing complexity, method two wins out by far. Method Two (KNN) took a few minutes to run through the Grid Search and create the model. In comparison, while I do not have the exact time it took because I ran it while I slept and my time tracking method broke, Method One (SVM) took at least a couple hours. Which is amazing considering KNN had to run 71 possible k values."
   ]
  },
  {
   "cell_type": "markdown",
   "id": "33f0580d",
   "metadata": {},
   "source": [
    "### Performance"
   ]
  },
  {
   "cell_type": "code",
   "execution_count": 78,
   "id": "9d64a938",
   "metadata": {},
   "outputs": [
    {
     "name": "stdout",
     "output_type": "stream",
     "text": [
      "SVM Method\n"
     ]
    },
    {
     "data": {
      "image/png": "[encoded data removed]",
      "text/plain": [
       "<Figure size 640x480 with 2 Axes>"
      ]
     },
     "metadata": {},
     "output_type": "display_data"
    },
    {
     "name": "stdout",
     "output_type": "stream",
     "text": [
      "KNN Method\n"
     ]
    },
    {
     "data": {
      "image/png": "[encoded data removed]",
      "text/plain": [
       "<Figure size 640x480 with 2 Axes>"
      ]
     },
     "metadata": {},
     "output_type": "display_data"
    },
    {
     "name": "stdout",
     "output_type": "stream",
     "text": [
      "The SVM model has an accuracy score of 0.953416149068323\n",
      "The SVM model has a precision score of 0.9339063390252225\n",
      "The SVM model has a recall score of 0.957342718755164\n",
      "The SVM model has a f1 score of 0.9450912952732134 \n",
      "\n",
      "The KNN model has an accuracy score of 0.90527950310559\n",
      "The KNN model has a precision score of 0.8959929783849013\n",
      "The KNN model has a recall score of 0.8829677530015774\n",
      "The KNN model has a f1 score of 0.8877709338610168\n"
     ]
    }
   ],
   "source": [
    "cm = confusion_matrix(y_test, y_pred, labels=model.classes_)\n",
    "disp1 = ConfusionMatrixDisplay(confusion_matrix=cm, display_labels=model.classes_)\n",
    "disp1.plot()\n",
    "print(\"SVM Method\")\n",
    "plt.show() # 0 = COVID19 | 1 = NORMAL | 2 = PNEUMONIA\n",
    "\n",
    "y_pred2 = knn_model.predict(x_test)\n",
    "cm2 = confusion_matrix(y_test, y_pred2, labels=model.classes_)\n",
    "disp2 = ConfusionMatrixDisplay(confusion_matrix=cm2, display_labels=model.classes_)\n",
    "disp2.plot()\n",
    "print(\"KNN Method\")\n",
    "plt.show() # 0 = COVID19 | 1 = NORMAL | 2 = PNEUMONIA\n",
    "\n",
    "print(f\"The SVM model has an accuracy score of {accuracy_score(y_pred,y_test)}\")\n",
    "print(f\"The SVM model has a precision score of {precision_score(y_pred,y_test, average='macro')}\")\n",
    "print(f\"The SVM model has a recall score of {recall_score(y_pred,y_test, average='macro')}\")\n",
    "print(f\"The SVM model has a f1 score of {f1_score(y_pred,y_test, average='macro')} \\n\")\n",
    "\n",
    "print(f\"The KNN model has an accuracy score of {accuracy_score(y_pred2,y_test)}\")\n",
    "print(f\"The KNN model has a precision score of {precision_score(y_pred2,y_test, average='macro')}\")\n",
    "print(f\"The KNN model has a recall score of {recall_score(y_pred2,y_test, average='macro')}\")\n",
    "print(f\"The KNN model has a f1 score of {f1_score(y_pred2,y_test, average='macro')}\")"
   ]
  },
  {
   "cell_type": "markdown",
   "id": "815396b8",
   "metadata": {},
   "source": [
    "Above we can see the confusion matrices for method one and two respectively, and their resulting metrics. Looking at both, it is obvious that Method 1 has better performance, with higher scores in every metric. \n",
    "\n",
    "### Final Recommendation\n",
    "My recommendation of what method should go into production is method 1. This is because although it is more complex and computationally intensive, performance is especially important in the medical field, and computers can be used that are much better than my 10 year old one\n",
    "\n",
    "\n",
    "## Ethical Issues\n",
    "This dataset has the most ethical intensive discussion necessary. Misdiagnose can potentially be deadly in the medical field, and if put in use it is possible for it to indirectly kill someone. This is why it would be important to further refine this model, and also compare it how doctors perform at diagnosing. If doctors are able to diagnose much more accurately and precise, and is pointless and danger to use a machine learning model instead."
   ]
  },
  {
   "cell_type": "markdown",
   "id": "e1b30a54",
   "metadata": {},
   "source": [
    "## Bibliography\n",
    "\n",
    "Kumar, A. M. (2018, December 17). C and gamma in SVM. Medium. Retrieved December 18, 2022, from https://medium.com/@myselfaman12345/c-and-gamma-in-svm-e6cee48626be \n",
    "\n",
    "Leung, K. (2022, September 13). Micro, Macro &amp; weighted averages of F1 score, clearly explained. Medium. Retrieved December 18, 2022, from https://towardsdatascience.com/micro-macro-weighted-averages-of-f1-score-clearly-explained-b603420b292f \n",
    "\n",
    "Myrianthous, G. (2021, March 14). Fit() vs predict() vs fit_predict() in python scikit-learn. Medium. Retrieved December 18, 2022, from https://towardsdatascience.com/fit-vs-predict-vs-fit-predict-in-python-scikit-learn-f15a34a8d39f \n",
    "\n",
    "Sklearn.metrics.confusion_matrix. scikit. (n.d.). Retrieved December 18, 2022, from https://scikit-learn.org/stable/modules/generated/sklearn.metrics.confusion_matrix.html \n",
    "\n",
    "Sklearn.neighbors.kneighborsclassifier. scikit. (n.d.). Retrieved December 19, 2022, from https://scikit-learn.org/stable/modules/generated/sklearn.neighbors.KNeighborsClassifier.html \n",
    "\n",
    "Yıldırım, S. (2020, June 1). Hyperparameter tuning for support vector machines - C and gamma parameters. Medium. Retrieved December 18, 2022, from https://towardsdatascience.com/hyperparameter-tuning-for-support-vector-machines-c-and-gamma-parameters-6a5097416167 "
   ]
  }
 ],
 "metadata": {
  "kernelspec": {
   "display_name": "Python 3 (ipykernel)",
   "language": "python",
   "name": "python3"
  },
  "language_info": {
   "codemirror_mode": {
    "name": "ipython",
    "version": 3
   },
   "file_extension": ".py",
   "mimetype": "text/x-python",
   "name": "python",
   "nbconvert_exporter": "python",
   "pygments_lexer": "ipython3",
   "version": "3.10.9"
  }
 },
 "nbformat": 4,
 "nbformat_minor": 5
}
